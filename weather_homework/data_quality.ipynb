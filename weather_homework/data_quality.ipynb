{
 "cells": [
  {
   "cell_type": "code",
   "execution_count": 33,
   "metadata": {},
   "outputs": [],
   "source": [
    "from pyspark.sql import SparkSession\n",
    "import pyspark.sql.functions as F\n",
    "from pandas_profiling import ProfileReport"
   ]
  },
  {
   "cell_type": "code",
   "execution_count": 4,
   "metadata": {},
   "outputs": [
    {
     "name": "stdout",
     "output_type": "stream",
     "text": [
      "22/08/09 01:03:06 WARN Utils: Your hostname, Piotrs-MacBook-Pro.local resolves to a loopback address: 127.0.0.1; using 10.10.50.102 instead (on interface en0)\n",
      "22/08/09 01:03:06 WARN Utils: Set SPARK_LOCAL_IP if you need to bind to another address\n"
     ]
    },
    {
     "name": "stderr",
     "output_type": "stream",
     "text": [
      "Setting default log level to \"WARN\".\n",
      "To adjust logging level use sc.setLogLevel(newLevel). For SparkR, use setLogLevel(newLevel).\n"
     ]
    },
    {
     "name": "stdout",
     "output_type": "stream",
     "text": [
      "22/08/09 01:03:06 WARN NativeCodeLoader: Unable to load native-hadoop library for your platform... using builtin-java classes where applicable\n",
      "22/08/09 01:03:07 WARN Utils: Service 'SparkUI' could not bind on port 4040. Attempting port 4041.\n"
     ]
    }
   ],
   "source": [
    "spark = SparkSession.builder.master(\"local[*]\").appName(\"data quality checks\").getOrCreate()\n"
   ]
  },
  {
   "cell_type": "code",
   "execution_count": 12,
   "metadata": {},
   "outputs": [
    {
     "name": "stderr",
     "output_type": "stream",
     "text": [
      "                                                                                \r"
     ]
    }
   ],
   "source": [
    "df_temp=spark.read.parquet(\"../hdfs/clean/temperatures\")\n",
    "df_press=spark.read.parquet(\"../hdfs/clean/pressure\")"
   ]
  },
  {
   "cell_type": "code",
   "execution_count": 38,
   "metadata": {},
   "outputs": [],
   "source": [
    "pd_temp=df_temp.toPandas()\n",
    "pd_press=df_press.toPandas()"
   ]
  },
  {
   "cell_type": "code",
   "execution_count": 35,
   "metadata": {},
   "outputs": [],
   "source": [
    "profile = ProfileReport(pd_temp,title=\"Temperatures profile\")\n",
    "profile.to_file(\"profiling_reports/temperatures_profile.html\")"
   ]
  },
  {
   "cell_type": "code",
   "execution_count": 39,
   "metadata": {},
   "outputs": [
    {
     "data": {
      "application/vnd.jupyter.widget-view+json": {
       "model_id": "20854e91d9a948828fe6e38e8f1c0ff4",
       "version_major": 2,
       "version_minor": 0
      },
      "text/plain": [
       "Summarize dataset:   0%|          | 0/5 [00:00<?, ?it/s]"
      ]
     },
     "metadata": {},
     "output_type": "display_data"
    },
    {
     "data": {
      "application/vnd.jupyter.widget-view+json": {
       "model_id": "00563aa0566e4733ac2d33aa5accd512",
       "version_major": 2,
       "version_minor": 0
      },
      "text/plain": [
       "Generate report structure:   0%|          | 0/1 [00:00<?, ?it/s]"
      ]
     },
     "metadata": {},
     "output_type": "display_data"
    },
    {
     "data": {
      "application/vnd.jupyter.widget-view+json": {
       "model_id": "dd44944a2a6345699ba10e20fcff534b",
       "version_major": 2,
       "version_minor": 0
      },
      "text/plain": [
       "Render HTML:   0%|          | 0/1 [00:00<?, ?it/s]"
      ]
     },
     "metadata": {},
     "output_type": "display_data"
    },
    {
     "data": {
      "application/vnd.jupyter.widget-view+json": {
       "model_id": "ad4773107b84435f879dcbb681c067ea",
       "version_major": 2,
       "version_minor": 0
      },
      "text/plain": [
       "Export report to file:   0%|          | 0/1 [00:00<?, ?it/s]"
      ]
     },
     "metadata": {},
     "output_type": "display_data"
    }
   ],
   "source": [
    "profile = ProfileReport(pd_press,title=\"Pressure profile\")\n",
    "profile.to_file(\"profiling_reports/pressure_profile.html\")"
   ]
  },
  {
   "cell_type": "code",
   "execution_count": 21,
   "metadata": {},
   "outputs": [
    {
     "name": "stdout",
     "output_type": "stream",
     "text": [
      "+-----+---+------+------+-----+----+----+-----+---------+----+\n",
      "|month|day|t_morn|t_noon|t_evn|tmax|tmin|tmean|method   |year|\n",
      "+-----+---+------+------+-----+----+----+-----+---------+----+\n",
      "|12   |31 |2.5   |3.2   |3.1  |3.4 |2.3 |2.9  |automatic|2017|\n",
      "|12   |31 |2.5   |3.2   |3.0  |3.4 |2.2 |2.8  |manual   |2017|\n",
      "|12   |30 |1.4   |1.5   |2.7  |3.2 |1.0 |2.0  |manual   |2017|\n",
      "|12   |30 |1.4   |1.4   |2.7  |3.1 |1.0 |1.9  |automatic|2017|\n",
      "|12   |29 |2.9   |2.7   |3.1  |4.8 |2.6 |3.1  |manual   |2017|\n",
      "|12   |29 |2.9   |2.7   |3.1  |4.8 |2.6 |3.1  |automatic|2017|\n",
      "|12   |28 |4.3   |4.9   |4.8  |5.5 |3.0 |4.5  |manual   |2017|\n",
      "|12   |28 |4.3   |4.9   |4.8  |5.5 |3.1 |4.5  |automatic|2017|\n",
      "|12   |27 |3.0   |3.5   |3.1  |4.4 |2.6 |3.2  |manual   |2017|\n",
      "|12   |27 |2.9   |3.5   |3.1  |4.4 |2.6 |3.2  |automatic|2017|\n",
      "+-----+---+------+------+-----+----+----+-----+---------+----+\n",
      "only showing top 10 rows\n",
      "\n"
     ]
    }
   ],
   "source": [
    "df_temp.orderBy([F.col(\"year\").desc(),F.col(\"month\").desc(),F.col(\"day\").desc()]).show(10,False)"
   ]
  },
  {
   "cell_type": "markdown",
   "metadata": {},
   "source": [
    "Duplicates: we see that there were no repetition of year,month,day if we taken into consideration 'automatic' measuruements taken for years 2013-2017.\n",
    "Missing values: exact equality means also that there are no missing day in the observation"
   ]
  },
  {
   "cell_type": "code",
   "execution_count": 43,
   "metadata": {},
   "outputs": [
    {
     "name": "stdout",
     "output_type": "stream",
     "text": [
      "97520 95694 1826\n"
     ]
    }
   ],
   "source": [
    "temp_count_all=df_temp.count()\n",
    "temp_count_without_auto=df_temp.select(\"year\",\"month\",\"day\").dropDuplicates().count()\n",
    "from datetime import date\n",
    "d0=date(2013,1,1)\n",
    "d1=date(2018,1,1)\n",
    "temp_count_auto=(d1-d0).days\n",
    "print(temp_count_all,temp_count_without_auto,temp_count_auto)\n",
    "assert temp_count_auto+temp_count_without_auto == temp_count_all\n"
   ]
  }
 ],
 "metadata": {
  "kernelspec": {
   "display_name": "Python 3.8.13 ('.venv': poetry)",
   "language": "python",
   "name": "python3"
  },
  "language_info": {
   "codemirror_mode": {
    "name": "ipython",
    "version": 3
   },
   "file_extension": ".py",
   "mimetype": "text/x-python",
   "name": "python",
   "nbconvert_exporter": "python",
   "pygments_lexer": "ipython3",
   "version": "3.8.13"
  },
  "orig_nbformat": 4,
  "vscode": {
   "interpreter": {
    "hash": "36ac863a39d010bd04c1567135c33f7d24d2c75ab7d79d2f3c8b36a314a7ac54"
   }
  }
 },
 "nbformat": 4,
 "nbformat_minor": 2
}
